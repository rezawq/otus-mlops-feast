{
 "cells": [
  {
   "cell_type": "code",
   "id": "f33c3f10-4827-471d-8203-56bf32746e54",
   "metadata": {
    "ExecuteTime": {
     "end_time": "2025-02-22T15:54:39.607923Z",
     "start_time": "2025-02-22T15:54:39.602543Z"
    }
   },
   "source": [
    "import os\n",
    "from datetime import datetime\n",
    "\n",
    "import pandas as pd\n",
    "from feast import FeatureStore"
   ],
   "outputs": [],
   "execution_count": 19
  },
  {
   "cell_type": "code",
   "id": "a624fcb4-45c2-4a46-b4e6-d6ac877b1360",
   "metadata": {
    "ExecuteTime": {
     "end_time": "2025-02-22T15:54:39.655896Z",
     "start_time": "2025-02-22T15:54:39.653483Z"
    }
   },
   "source": [
    "raw_data_path = os.path.join(\"feature_store\", \"feature_repo\", \"data\", \"driver_stats.parquet\")\n",
    "feature_store_path = os.path.join(\"feature_store\", \"feature_repo\")"
   ],
   "outputs": [],
   "execution_count": 20
  },
  {
   "cell_type": "markdown",
   "id": "0d2e9c5c-413a-4915-9d79-9d79e25a6e1e",
   "metadata": {},
   "source": [
    "### Check data"
   ]
  },
  {
   "cell_type": "code",
   "id": "900c6e18-5539-4b6a-bc62-8d1dcee1ace3",
   "metadata": {
    "ExecuteTime": {
     "end_time": "2025-02-22T15:54:39.705734Z",
     "start_time": "2025-02-22T15:54:39.700869Z"
    }
   },
   "source": [
    "df = pd.read_parquet(raw_data_path)"
   ],
   "outputs": [],
   "execution_count": 21
  },
  {
   "cell_type": "code",
   "id": "8b0998f9-98ba-4f2f-a59c-e388af9572c9",
   "metadata": {
    "ExecuteTime": {
     "end_time": "2025-02-22T15:54:39.766053Z",
     "start_time": "2025-02-22T15:54:39.757961Z"
    }
   },
   "source": [
    "df.head(5)"
   ],
   "outputs": [
    {
     "data": {
      "text/plain": [
       "                   event_timestamp  driver_id  conv_rate  acc_rate  \\\n",
       "0 2024-10-17 12:07:08.228578+00:00       1001   1.000000  1.000000   \n",
       "1        2024-10-02 11:00:00+00:00       1005   0.429879  0.194598   \n",
       "2        2024-10-02 12:00:00+00:00       1005   0.230119  0.642878   \n",
       "3        2024-10-02 13:00:00+00:00       1005   0.128600  0.674187   \n",
       "4        2024-10-02 14:00:00+00:00       1005   0.400603  0.473636   \n",
       "\n",
       "   avg_daily_trips                    created  \n",
       "0             1000 2024-10-17 12:07:08.228581  \n",
       "1              582 2024-10-17 11:30:07.072000  \n",
       "2              551 2024-10-17 11:30:07.072000  \n",
       "3               38 2024-10-17 11:30:07.072000  \n",
       "4              583 2024-10-17 11:30:07.072000  "
      ],
      "text/html": [
       "<div>\n",
       "<style scoped>\n",
       "    .dataframe tbody tr th:only-of-type {\n",
       "        vertical-align: middle;\n",
       "    }\n",
       "\n",
       "    .dataframe tbody tr th {\n",
       "        vertical-align: top;\n",
       "    }\n",
       "\n",
       "    .dataframe thead th {\n",
       "        text-align: right;\n",
       "    }\n",
       "</style>\n",
       "<table border=\"1\" class=\"dataframe\">\n",
       "  <thead>\n",
       "    <tr style=\"text-align: right;\">\n",
       "      <th></th>\n",
       "      <th>event_timestamp</th>\n",
       "      <th>driver_id</th>\n",
       "      <th>conv_rate</th>\n",
       "      <th>acc_rate</th>\n",
       "      <th>avg_daily_trips</th>\n",
       "      <th>created</th>\n",
       "    </tr>\n",
       "  </thead>\n",
       "  <tbody>\n",
       "    <tr>\n",
       "      <th>0</th>\n",
       "      <td>2024-10-17 12:07:08.228578+00:00</td>\n",
       "      <td>1001</td>\n",
       "      <td>1.000000</td>\n",
       "      <td>1.000000</td>\n",
       "      <td>1000</td>\n",
       "      <td>2024-10-17 12:07:08.228581</td>\n",
       "    </tr>\n",
       "    <tr>\n",
       "      <th>1</th>\n",
       "      <td>2024-10-02 11:00:00+00:00</td>\n",
       "      <td>1005</td>\n",
       "      <td>0.429879</td>\n",
       "      <td>0.194598</td>\n",
       "      <td>582</td>\n",
       "      <td>2024-10-17 11:30:07.072000</td>\n",
       "    </tr>\n",
       "    <tr>\n",
       "      <th>2</th>\n",
       "      <td>2024-10-02 12:00:00+00:00</td>\n",
       "      <td>1005</td>\n",
       "      <td>0.230119</td>\n",
       "      <td>0.642878</td>\n",
       "      <td>551</td>\n",
       "      <td>2024-10-17 11:30:07.072000</td>\n",
       "    </tr>\n",
       "    <tr>\n",
       "      <th>3</th>\n",
       "      <td>2024-10-02 13:00:00+00:00</td>\n",
       "      <td>1005</td>\n",
       "      <td>0.128600</td>\n",
       "      <td>0.674187</td>\n",
       "      <td>38</td>\n",
       "      <td>2024-10-17 11:30:07.072000</td>\n",
       "    </tr>\n",
       "    <tr>\n",
       "      <th>4</th>\n",
       "      <td>2024-10-02 14:00:00+00:00</td>\n",
       "      <td>1005</td>\n",
       "      <td>0.400603</td>\n",
       "      <td>0.473636</td>\n",
       "      <td>583</td>\n",
       "      <td>2024-10-17 11:30:07.072000</td>\n",
       "    </tr>\n",
       "  </tbody>\n",
       "</table>\n",
       "</div>"
      ]
     },
     "execution_count": 22,
     "metadata": {},
     "output_type": "execute_result"
    }
   ],
   "execution_count": 22
  },
  {
   "cell_type": "markdown",
   "id": "8765696b-10fb-40f2-ab9f-57f08f747a8d",
   "metadata": {},
   "source": [
    "### Features inference"
   ]
  },
  {
   "cell_type": "code",
   "id": "902f97c8-ce54-4741-ba3d-51366453ca73",
   "metadata": {
    "ExecuteTime": {
     "end_time": "2025-02-22T15:54:39.904609Z",
     "start_time": "2025-02-22T15:54:39.901171Z"
    }
   },
   "source": [
    "entity_df = pd.DataFrame.from_dict(\n",
    "    {\n",
    "        # entity's join key -> entity values\n",
    "        \"driver_id\": [1001, 1002, 1003],\n",
    "        # \"event_timestamp\" (reserved key) -> timestamps\n",
    "        \"event_timestamp\": [\n",
    "            datetime(2021, 4, 12, 10, 59, 42),\n",
    "            datetime(2021, 4, 12, 8, 12, 10),\n",
    "            datetime(2021, 4, 12, 16, 40, 26),\n",
    "        ],\n",
    "        # (optional) label name -> label values. Feast does not process these\n",
    "        \"label_driver_reported_satisfaction\": [1, 5, 3],\n",
    "    }\n",
    ")"
   ],
   "outputs": [],
   "execution_count": 23
  },
  {
   "cell_type": "code",
   "id": "9cd2cb33-2764-4467-847d-e55cc0f07084",
   "metadata": {
    "ExecuteTime": {
     "end_time": "2025-02-22T15:54:39.953488Z",
     "start_time": "2025-02-22T15:54:39.948495Z"
    }
   },
   "source": [
    "entity_df"
   ],
   "outputs": [
    {
     "data": {
      "text/plain": [
       "   driver_id     event_timestamp  label_driver_reported_satisfaction\n",
       "0       1001 2021-04-12 10:59:42                                   1\n",
       "1       1002 2021-04-12 08:12:10                                   5\n",
       "2       1003 2021-04-12 16:40:26                                   3"
      ],
      "text/html": [
       "<div>\n",
       "<style scoped>\n",
       "    .dataframe tbody tr th:only-of-type {\n",
       "        vertical-align: middle;\n",
       "    }\n",
       "\n",
       "    .dataframe tbody tr th {\n",
       "        vertical-align: top;\n",
       "    }\n",
       "\n",
       "    .dataframe thead th {\n",
       "        text-align: right;\n",
       "    }\n",
       "</style>\n",
       "<table border=\"1\" class=\"dataframe\">\n",
       "  <thead>\n",
       "    <tr style=\"text-align: right;\">\n",
       "      <th></th>\n",
       "      <th>driver_id</th>\n",
       "      <th>event_timestamp</th>\n",
       "      <th>label_driver_reported_satisfaction</th>\n",
       "    </tr>\n",
       "  </thead>\n",
       "  <tbody>\n",
       "    <tr>\n",
       "      <th>0</th>\n",
       "      <td>1001</td>\n",
       "      <td>2021-04-12 10:59:42</td>\n",
       "      <td>1</td>\n",
       "    </tr>\n",
       "    <tr>\n",
       "      <th>1</th>\n",
       "      <td>1002</td>\n",
       "      <td>2021-04-12 08:12:10</td>\n",
       "      <td>5</td>\n",
       "    </tr>\n",
       "    <tr>\n",
       "      <th>2</th>\n",
       "      <td>1003</td>\n",
       "      <td>2021-04-12 16:40:26</td>\n",
       "      <td>3</td>\n",
       "    </tr>\n",
       "  </tbody>\n",
       "</table>\n",
       "</div>"
      ]
     },
     "execution_count": 24,
     "metadata": {},
     "output_type": "execute_result"
    }
   ],
   "execution_count": 24
  },
  {
   "cell_type": "code",
   "id": "b24e1ed1-b6ac-43ec-b881-732671b57c69",
   "metadata": {
    "ExecuteTime": {
     "end_time": "2025-02-22T15:54:40.047008Z",
     "start_time": "2025-02-22T15:54:40.043863Z"
    }
   },
   "source": [
    "store = FeatureStore(repo_path=feature_store_path)"
   ],
   "outputs": [],
   "execution_count": 25
  },
  {
   "cell_type": "code",
   "id": "077dc5fb-26ac-4ab5-b1bc-e379ee2164cf",
   "metadata": {
    "ExecuteTime": {
     "end_time": "2025-02-22T15:54:40.198097Z",
     "start_time": "2025-02-22T15:54:40.114174Z"
    }
   },
   "source": [
    "training_df = store.get_historical_features(\n",
    "    entity_df=entity_df,\n",
    "    features=[\n",
    "        \"driver_hourly_stats:conv_rate\",\n",
    "        \"driver_hourly_stats:acc_rate\",\n",
    "        \"driver_hourly_stats:avg_daily_trips\",\n",
    "    ],\n",
    ").to_df()\n",
    "\n",
    "print(\"----- Feature schema -----\\n\")\n",
    "print(training_df.info())"
   ],
   "outputs": [
    {
     "name": "stderr",
     "output_type": "stream",
     "text": [
      "WARNING:root:_list_feature_views will make breaking changes. Please use _list_batch_feature_views instead. _list_feature_views will behave like _list_all_feature_views in the future.\n"
     ]
    },
    {
     "name": "stdout",
     "output_type": "stream",
     "text": [
      "----- Feature schema -----\n",
      "\n",
      "<class 'pandas.core.frame.DataFrame'>\n",
      "RangeIndex: 3 entries, 0 to 2\n",
      "Data columns (total 6 columns):\n",
      " #   Column                              Non-Null Count  Dtype              \n",
      "---  ------                              --------------  -----              \n",
      " 0   driver_id                           3 non-null      int64              \n",
      " 1   event_timestamp                     3 non-null      datetime64[ns, UTC]\n",
      " 2   label_driver_reported_satisfaction  3 non-null      int64              \n",
      " 3   conv_rate                           3 non-null      float32            \n",
      " 4   acc_rate                            3 non-null      float32            \n",
      " 5   avg_daily_trips                     3 non-null      int32              \n",
      "dtypes: datetime64[ns, UTC](1), float32(2), int32(1), int64(2)\n",
      "memory usage: 240.0 bytes\n",
      "None\n"
     ]
    }
   ],
   "execution_count": 26
  },
  {
   "cell_type": "code",
   "id": "cfeee199-39e6-4d19-8656-f4a4401d8723",
   "metadata": {
    "ExecuteTime": {
     "end_time": "2025-02-22T15:54:40.239572Z",
     "start_time": "2025-02-22T15:54:40.231154Z"
    }
   },
   "source": [
    "training_df.head()"
   ],
   "outputs": [
    {
     "data": {
      "text/plain": [
       "   driver_id           event_timestamp  label_driver_reported_satisfaction  \\\n",
       "0       1001 2021-04-12 10:59:42+00:00                                   1   \n",
       "1       1002 2021-04-12 08:12:10+00:00                                   5   \n",
       "2       1003 2021-04-12 16:40:26+00:00                                   3   \n",
       "\n",
       "   conv_rate  acc_rate  avg_daily_trips  \n",
       "0   0.709758  0.692957              402  \n",
       "1   0.718295  0.584081              370  \n",
       "2   0.697411  0.197680               25  "
      ],
      "text/html": [
       "<div>\n",
       "<style scoped>\n",
       "    .dataframe tbody tr th:only-of-type {\n",
       "        vertical-align: middle;\n",
       "    }\n",
       "\n",
       "    .dataframe tbody tr th {\n",
       "        vertical-align: top;\n",
       "    }\n",
       "\n",
       "    .dataframe thead th {\n",
       "        text-align: right;\n",
       "    }\n",
       "</style>\n",
       "<table border=\"1\" class=\"dataframe\">\n",
       "  <thead>\n",
       "    <tr style=\"text-align: right;\">\n",
       "      <th></th>\n",
       "      <th>driver_id</th>\n",
       "      <th>event_timestamp</th>\n",
       "      <th>label_driver_reported_satisfaction</th>\n",
       "      <th>conv_rate</th>\n",
       "      <th>acc_rate</th>\n",
       "      <th>avg_daily_trips</th>\n",
       "    </tr>\n",
       "  </thead>\n",
       "  <tbody>\n",
       "    <tr>\n",
       "      <th>0</th>\n",
       "      <td>1001</td>\n",
       "      <td>2021-04-12 10:59:42+00:00</td>\n",
       "      <td>1</td>\n",
       "      <td>0.709758</td>\n",
       "      <td>0.692957</td>\n",
       "      <td>402</td>\n",
       "    </tr>\n",
       "    <tr>\n",
       "      <th>1</th>\n",
       "      <td>1002</td>\n",
       "      <td>2021-04-12 08:12:10+00:00</td>\n",
       "      <td>5</td>\n",
       "      <td>0.718295</td>\n",
       "      <td>0.584081</td>\n",
       "      <td>370</td>\n",
       "    </tr>\n",
       "    <tr>\n",
       "      <th>2</th>\n",
       "      <td>1003</td>\n",
       "      <td>2021-04-12 16:40:26+00:00</td>\n",
       "      <td>3</td>\n",
       "      <td>0.697411</td>\n",
       "      <td>0.197680</td>\n",
       "      <td>25</td>\n",
       "    </tr>\n",
       "  </tbody>\n",
       "</table>\n",
       "</div>"
      ]
     },
     "execution_count": 27,
     "metadata": {},
     "output_type": "execute_result"
    }
   ],
   "execution_count": 27
  },
  {
   "cell_type": "markdown",
   "id": "ca95b6a0-57d1-4fb0-8190-c93cd82e1f36",
   "metadata": {},
   "source": [
    "### Features View - on demand"
   ]
  },
  {
   "cell_type": "code",
   "id": "8682dd22-31be-4e71-a672-d558be69078e",
   "metadata": {
    "ExecuteTime": {
     "end_time": "2025-02-22T15:54:40.330007Z",
     "start_time": "2025-02-22T15:54:40.327221Z"
    }
   },
   "source": [
    "entity_df = pd.DataFrame.from_dict(\n",
    "    {\n",
    "        # entity's join key -> entity values\n",
    "        \"driver_id\": [1001, 1002, 1003],\n",
    "        # \"event_timestamp\" (reserved key) -> timestamps\n",
    "        \"event_timestamp\": [\n",
    "            datetime(2021, 4, 12, 10, 59, 42),\n",
    "            datetime(2021, 4, 12, 8, 12, 10),\n",
    "            datetime(2021, 4, 12, 16, 40, 26),\n",
    "        ],\n",
    "        # (optional) label name -> label values. Feast does not process these\n",
    "        \"label_driver_reported_satisfaction\": [1, 5, 3],\n",
    "        # values we're using for an on-demand transformation\n",
    "        \"val_to_add\": [1, 2, 3],\n",
    "        \"val_to_add_2\": [10, 20, 30],\n",
    "    }\n",
    ")"
   ],
   "outputs": [],
   "execution_count": 28
  },
  {
   "cell_type": "code",
   "id": "5361584f",
   "metadata": {
    "ExecuteTime": {
     "end_time": "2025-02-22T15:54:40.384527Z",
     "start_time": "2025-02-22T15:54:40.379442Z"
    }
   },
   "source": [
    "entity_df.head(5)"
   ],
   "outputs": [
    {
     "data": {
      "text/plain": [
       "   driver_id     event_timestamp  label_driver_reported_satisfaction  \\\n",
       "0       1001 2021-04-12 10:59:42                                   1   \n",
       "1       1002 2021-04-12 08:12:10                                   5   \n",
       "2       1003 2021-04-12 16:40:26                                   3   \n",
       "\n",
       "   val_to_add  val_to_add_2  \n",
       "0           1            10  \n",
       "1           2            20  \n",
       "2           3            30  "
      ],
      "text/html": [
       "<div>\n",
       "<style scoped>\n",
       "    .dataframe tbody tr th:only-of-type {\n",
       "        vertical-align: middle;\n",
       "    }\n",
       "\n",
       "    .dataframe tbody tr th {\n",
       "        vertical-align: top;\n",
       "    }\n",
       "\n",
       "    .dataframe thead th {\n",
       "        text-align: right;\n",
       "    }\n",
       "</style>\n",
       "<table border=\"1\" class=\"dataframe\">\n",
       "  <thead>\n",
       "    <tr style=\"text-align: right;\">\n",
       "      <th></th>\n",
       "      <th>driver_id</th>\n",
       "      <th>event_timestamp</th>\n",
       "      <th>label_driver_reported_satisfaction</th>\n",
       "      <th>val_to_add</th>\n",
       "      <th>val_to_add_2</th>\n",
       "    </tr>\n",
       "  </thead>\n",
       "  <tbody>\n",
       "    <tr>\n",
       "      <th>0</th>\n",
       "      <td>1001</td>\n",
       "      <td>2021-04-12 10:59:42</td>\n",
       "      <td>1</td>\n",
       "      <td>1</td>\n",
       "      <td>10</td>\n",
       "    </tr>\n",
       "    <tr>\n",
       "      <th>1</th>\n",
       "      <td>1002</td>\n",
       "      <td>2021-04-12 08:12:10</td>\n",
       "      <td>5</td>\n",
       "      <td>2</td>\n",
       "      <td>20</td>\n",
       "    </tr>\n",
       "    <tr>\n",
       "      <th>2</th>\n",
       "      <td>1003</td>\n",
       "      <td>2021-04-12 16:40:26</td>\n",
       "      <td>3</td>\n",
       "      <td>3</td>\n",
       "      <td>30</td>\n",
       "    </tr>\n",
       "  </tbody>\n",
       "</table>\n",
       "</div>"
      ]
     },
     "execution_count": 29,
     "metadata": {},
     "output_type": "execute_result"
    }
   ],
   "execution_count": 29
  },
  {
   "cell_type": "code",
   "id": "b0883583-6c34-4aeb-af77-b47867d689aa",
   "metadata": {
    "ExecuteTime": {
     "end_time": "2025-02-22T15:54:40.525527Z",
     "start_time": "2025-02-22T15:54:40.440576Z"
    }
   },
   "source": [
    "training_df = store.get_historical_features(\n",
    "    entity_df=entity_df,\n",
    "    features=[\n",
    "        \"driver_hourly_stats:conv_rate\",\n",
    "        \"driver_hourly_stats:acc_rate\",\n",
    "        \"driver_hourly_stats:avg_daily_trips\",\n",
    "        \"transformed_conv_rate:conv_rate_plus_val1\",\n",
    "        \"transformed_conv_rate:conv_rate_plus_val2\",\n",
    "    ],\n",
    ").to_df()"
   ],
   "outputs": [
    {
     "name": "stderr",
     "output_type": "stream",
     "text": [
      "WARNING:root:_list_feature_views will make breaking changes. Please use _list_batch_feature_views instead. _list_feature_views will behave like _list_all_feature_views in the future.\n"
     ]
    }
   ],
   "execution_count": 30
  },
  {
   "cell_type": "code",
   "id": "25b2f0f1-fcd6-4bcc-84c2-9daf381230fc",
   "metadata": {
    "ExecuteTime": {
     "end_time": "2025-02-22T15:54:40.567540Z",
     "start_time": "2025-02-22T15:54:40.560712Z"
    }
   },
   "source": [
    "training_df"
   ],
   "outputs": [
    {
     "data": {
      "text/plain": [
       "   driver_id           event_timestamp  label_driver_reported_satisfaction  \\\n",
       "0       1001 2021-04-12 10:59:42+00:00                                   1   \n",
       "1       1002 2021-04-12 08:12:10+00:00                                   5   \n",
       "2       1003 2021-04-12 16:40:26+00:00                                   3   \n",
       "\n",
       "   val_to_add  val_to_add_2  conv_rate  acc_rate  avg_daily_trips  \\\n",
       "0           1            10   0.709758  0.692957              402   \n",
       "1           2            20   0.718295  0.584081              370   \n",
       "2           3            30   0.697411  0.197680               25   \n",
       "\n",
       "   conv_rate_plus_val1  conv_rate_plus_val2  \n",
       "0             1.709758            10.709758  \n",
       "1             2.718295            20.718295  \n",
       "2             3.697411            30.697411  "
      ],
      "text/html": [
       "<div>\n",
       "<style scoped>\n",
       "    .dataframe tbody tr th:only-of-type {\n",
       "        vertical-align: middle;\n",
       "    }\n",
       "\n",
       "    .dataframe tbody tr th {\n",
       "        vertical-align: top;\n",
       "    }\n",
       "\n",
       "    .dataframe thead th {\n",
       "        text-align: right;\n",
       "    }\n",
       "</style>\n",
       "<table border=\"1\" class=\"dataframe\">\n",
       "  <thead>\n",
       "    <tr style=\"text-align: right;\">\n",
       "      <th></th>\n",
       "      <th>driver_id</th>\n",
       "      <th>event_timestamp</th>\n",
       "      <th>label_driver_reported_satisfaction</th>\n",
       "      <th>val_to_add</th>\n",
       "      <th>val_to_add_2</th>\n",
       "      <th>conv_rate</th>\n",
       "      <th>acc_rate</th>\n",
       "      <th>avg_daily_trips</th>\n",
       "      <th>conv_rate_plus_val1</th>\n",
       "      <th>conv_rate_plus_val2</th>\n",
       "    </tr>\n",
       "  </thead>\n",
       "  <tbody>\n",
       "    <tr>\n",
       "      <th>0</th>\n",
       "      <td>1001</td>\n",
       "      <td>2021-04-12 10:59:42+00:00</td>\n",
       "      <td>1</td>\n",
       "      <td>1</td>\n",
       "      <td>10</td>\n",
       "      <td>0.709758</td>\n",
       "      <td>0.692957</td>\n",
       "      <td>402</td>\n",
       "      <td>1.709758</td>\n",
       "      <td>10.709758</td>\n",
       "    </tr>\n",
       "    <tr>\n",
       "      <th>1</th>\n",
       "      <td>1002</td>\n",
       "      <td>2021-04-12 08:12:10+00:00</td>\n",
       "      <td>5</td>\n",
       "      <td>2</td>\n",
       "      <td>20</td>\n",
       "      <td>0.718295</td>\n",
       "      <td>0.584081</td>\n",
       "      <td>370</td>\n",
       "      <td>2.718295</td>\n",
       "      <td>20.718295</td>\n",
       "    </tr>\n",
       "    <tr>\n",
       "      <th>2</th>\n",
       "      <td>1003</td>\n",
       "      <td>2021-04-12 16:40:26+00:00</td>\n",
       "      <td>3</td>\n",
       "      <td>3</td>\n",
       "      <td>30</td>\n",
       "      <td>0.697411</td>\n",
       "      <td>0.197680</td>\n",
       "      <td>25</td>\n",
       "      <td>3.697411</td>\n",
       "      <td>30.697411</td>\n",
       "    </tr>\n",
       "  </tbody>\n",
       "</table>\n",
       "</div>"
      ]
     },
     "execution_count": 31,
     "metadata": {},
     "output_type": "execute_result"
    }
   ],
   "execution_count": 31
  },
  {
   "cell_type": "code",
   "id": "a807cc88",
   "metadata": {
    "ExecuteTime": {
     "end_time": "2025-02-22T15:54:40.644507Z",
     "start_time": "2025-02-22T15:54:40.636851Z"
    }
   },
   "source": [
    "# Online feature retrieval\n",
    "online_features = store.get_online_features(\n",
    "    features=[\n",
    "        \"driver_hourly_stats:conv_rate\",\n",
    "        \"driver_hourly_stats:acc_rate\",\n",
    "        \"driver_hourly_stats:avg_daily_trips\",\n",
    "    ],\n",
    "    entity_rows=[{\"driver_id\": 1001}, {\"driver_id\": 1002}],\n",
    ").to_dict()\n",
    "\n",
    "print(\"Online features for drivers 1001, 1002:\")\n",
    "for key, value in online_features.items():\n",
    "    print(f\"{key}: {value}\")"
   ],
   "outputs": [
    {
     "name": "stderr",
     "output_type": "stream",
     "text": [
      "WARNING:root:_list_feature_views will make breaking changes. Please use _list_batch_feature_views instead. _list_feature_views will behave like _list_all_feature_views in the future.\n",
      "WARNING:root:Cannot use sqlite_vec for vector search\n"
     ]
    },
    {
     "name": "stdout",
     "output_type": "stream",
     "text": [
      "Online features for drivers 1001, 1002:\n",
      "driver_id: [1001, 1002]\n",
      "avg_daily_trips: [None, None]\n",
      "conv_rate: [None, None]\n",
      "acc_rate: [None, None]\n"
     ]
    }
   ],
   "execution_count": 32
  },
  {
   "cell_type": "code",
   "id": "800bbc4d",
   "metadata": {
    "ExecuteTime": {
     "end_time": "2025-02-22T15:54:40.792019Z",
     "start_time": "2025-02-22T15:54:40.694754Z"
    }
   },
   "source": [
    "# Using Feature Service for consistent feature sets\n",
    "training_df_v1 = store.get_historical_features(\n",
    "    entity_df=entity_df,\n",
    "    features=store.get_feature_service(\"driver_activity_v1\")\n",
    ").to_df()\n",
    "\n",
    "print(\"\\nFeatures from driver_activity_v1 service:\")\n",
    "training_df_v1.head()"
   ],
   "outputs": [
    {
     "name": "stderr",
     "output_type": "stream",
     "text": [
      "WARNING:root:_list_feature_views will make breaking changes. Please use _list_batch_feature_views instead. _list_feature_views will behave like _list_all_feature_views in the future.\n"
     ]
    },
    {
     "name": "stdout",
     "output_type": "stream",
     "text": [
      "\n",
      "Features from driver_activity_v1 service:\n"
     ]
    },
    {
     "data": {
      "text/plain": [
       "   driver_id           event_timestamp  label_driver_reported_satisfaction  \\\n",
       "0       1001 2021-04-12 10:59:42+00:00                                   1   \n",
       "1       1002 2021-04-12 08:12:10+00:00                                   5   \n",
       "2       1003 2021-04-12 16:40:26+00:00                                   3   \n",
       "\n",
       "   val_to_add  val_to_add_2  conv_rate  conv_rate_plus_val1  \\\n",
       "0           1            10   0.709758             1.709758   \n",
       "1           2            20   0.718295             2.718295   \n",
       "2           3            30   0.697411             3.697411   \n",
       "\n",
       "   conv_rate_plus_val2  \n",
       "0            10.709758  \n",
       "1            20.718295  \n",
       "2            30.697411  "
      ],
      "text/html": [
       "<div>\n",
       "<style scoped>\n",
       "    .dataframe tbody tr th:only-of-type {\n",
       "        vertical-align: middle;\n",
       "    }\n",
       "\n",
       "    .dataframe tbody tr th {\n",
       "        vertical-align: top;\n",
       "    }\n",
       "\n",
       "    .dataframe thead th {\n",
       "        text-align: right;\n",
       "    }\n",
       "</style>\n",
       "<table border=\"1\" class=\"dataframe\">\n",
       "  <thead>\n",
       "    <tr style=\"text-align: right;\">\n",
       "      <th></th>\n",
       "      <th>driver_id</th>\n",
       "      <th>event_timestamp</th>\n",
       "      <th>label_driver_reported_satisfaction</th>\n",
       "      <th>val_to_add</th>\n",
       "      <th>val_to_add_2</th>\n",
       "      <th>conv_rate</th>\n",
       "      <th>conv_rate_plus_val1</th>\n",
       "      <th>conv_rate_plus_val2</th>\n",
       "    </tr>\n",
       "  </thead>\n",
       "  <tbody>\n",
       "    <tr>\n",
       "      <th>0</th>\n",
       "      <td>1001</td>\n",
       "      <td>2021-04-12 10:59:42+00:00</td>\n",
       "      <td>1</td>\n",
       "      <td>1</td>\n",
       "      <td>10</td>\n",
       "      <td>0.709758</td>\n",
       "      <td>1.709758</td>\n",
       "      <td>10.709758</td>\n",
       "    </tr>\n",
       "    <tr>\n",
       "      <th>1</th>\n",
       "      <td>1002</td>\n",
       "      <td>2021-04-12 08:12:10+00:00</td>\n",
       "      <td>5</td>\n",
       "      <td>2</td>\n",
       "      <td>20</td>\n",
       "      <td>0.718295</td>\n",
       "      <td>2.718295</td>\n",
       "      <td>20.718295</td>\n",
       "    </tr>\n",
       "    <tr>\n",
       "      <th>2</th>\n",
       "      <td>1003</td>\n",
       "      <td>2021-04-12 16:40:26+00:00</td>\n",
       "      <td>3</td>\n",
       "      <td>3</td>\n",
       "      <td>30</td>\n",
       "      <td>0.697411</td>\n",
       "      <td>3.697411</td>\n",
       "      <td>30.697411</td>\n",
       "    </tr>\n",
       "  </tbody>\n",
       "</table>\n",
       "</div>"
      ]
     },
     "execution_count": 33,
     "metadata": {},
     "output_type": "execute_result"
    }
   ],
   "execution_count": 33
  },
  {
   "cell_type": "code",
   "id": "09e156f1",
   "metadata": {
    "ExecuteTime": {
     "end_time": "2025-02-22T15:54:40.845035Z",
     "start_time": "2025-02-22T15:54:40.841537Z"
    }
   },
   "source": [
    "# Get feature view metadata\n",
    "feature_view = store.get_feature_view(\"driver_hourly_stats\")\n",
    "print(\"\\nFeature view metadata:\")\n",
    "print(f\"Name: {feature_view.name}\")\n",
    "print(f\"Entities: {feature_view.entities}\")\n",
    "print(f\"TTL: {feature_view.ttl}\")\n",
    "print(f\"Online: {feature_view.online}\")\n",
    "print(f\"Features: {[f.name for f in feature_view.features]}\")"
   ],
   "outputs": [
    {
     "name": "stdout",
     "output_type": "stream",
     "text": [
      "\n",
      "Feature view metadata:\n",
      "Name: driver_hourly_stats\n",
      "Entities: ['driver']\n",
      "TTL: 1 day, 0:00:00\n",
      "Online: True\n",
      "Features: ['conv_rate', 'acc_rate', 'avg_daily_trips']\n"
     ]
    }
   ],
   "execution_count": 34
  },
  {
   "cell_type": "code",
   "id": "25f384d6",
   "metadata": {
    "ExecuteTime": {
     "end_time": "2025-02-22T15:54:40.997575Z",
     "start_time": "2025-02-22T15:54:40.906410Z"
    }
   },
   "source": [
    "# Using Feature Service for consistent feature sets\n",
    "training_df_v4 = store.get_historical_features(\n",
    "    entity_df=entity_df,\n",
    "    features=store.get_feature_service(\"driver_activity_v4\")\n",
    ").to_df()\n",
    "\n",
    "print(\"\\nFeatures from driver_activity_v4 service:\")\n",
    "training_df_v4.head()"
   ],
   "outputs": [
    {
     "name": "stderr",
     "output_type": "stream",
     "text": [
      "WARNING:root:_list_feature_views will make breaking changes. Please use _list_batch_feature_views instead. _list_feature_views will behave like _list_all_feature_views in the future.\n"
     ]
    },
    {
     "name": "stdout",
     "output_type": "stream",
     "text": [
      "\n",
      "Features from driver_activity_v4 service:\n"
     ]
    },
    {
     "data": {
      "text/plain": [
       "   driver_id           event_timestamp  label_driver_reported_satisfaction  \\\n",
       "0       1001 2021-04-12 10:59:42+00:00                                   1   \n",
       "1       1002 2021-04-12 08:12:10+00:00                                   5   \n",
       "2       1003 2021-04-12 16:40:26+00:00                                   3   \n",
       "\n",
       "   val_to_add  val_to_add_2  conv_rate  acc_rate  avg_daily_trips  \\\n",
       "0           1            10   0.709758  0.692957              402   \n",
       "1           2            20   0.718295  0.584081              370   \n",
       "2           3            30   0.697411  0.197680               25   \n",
       "\n",
       "   combined_rating  performance_score  \n",
       "0         0.703038           4.217479  \n",
       "1         0.664610           3.931966  \n",
       "2         0.497519           1.620965  "
      ],
      "text/html": [
       "<div>\n",
       "<style scoped>\n",
       "    .dataframe tbody tr th:only-of-type {\n",
       "        vertical-align: middle;\n",
       "    }\n",
       "\n",
       "    .dataframe tbody tr th {\n",
       "        vertical-align: top;\n",
       "    }\n",
       "\n",
       "    .dataframe thead th {\n",
       "        text-align: right;\n",
       "    }\n",
       "</style>\n",
       "<table border=\"1\" class=\"dataframe\">\n",
       "  <thead>\n",
       "    <tr style=\"text-align: right;\">\n",
       "      <th></th>\n",
       "      <th>driver_id</th>\n",
       "      <th>event_timestamp</th>\n",
       "      <th>label_driver_reported_satisfaction</th>\n",
       "      <th>val_to_add</th>\n",
       "      <th>val_to_add_2</th>\n",
       "      <th>conv_rate</th>\n",
       "      <th>acc_rate</th>\n",
       "      <th>avg_daily_trips</th>\n",
       "      <th>combined_rating</th>\n",
       "      <th>performance_score</th>\n",
       "    </tr>\n",
       "  </thead>\n",
       "  <tbody>\n",
       "    <tr>\n",
       "      <th>0</th>\n",
       "      <td>1001</td>\n",
       "      <td>2021-04-12 10:59:42+00:00</td>\n",
       "      <td>1</td>\n",
       "      <td>1</td>\n",
       "      <td>10</td>\n",
       "      <td>0.709758</td>\n",
       "      <td>0.692957</td>\n",
       "      <td>402</td>\n",
       "      <td>0.703038</td>\n",
       "      <td>4.217479</td>\n",
       "    </tr>\n",
       "    <tr>\n",
       "      <th>1</th>\n",
       "      <td>1002</td>\n",
       "      <td>2021-04-12 08:12:10+00:00</td>\n",
       "      <td>5</td>\n",
       "      <td>2</td>\n",
       "      <td>20</td>\n",
       "      <td>0.718295</td>\n",
       "      <td>0.584081</td>\n",
       "      <td>370</td>\n",
       "      <td>0.664610</td>\n",
       "      <td>3.931966</td>\n",
       "    </tr>\n",
       "    <tr>\n",
       "      <th>2</th>\n",
       "      <td>1003</td>\n",
       "      <td>2021-04-12 16:40:26+00:00</td>\n",
       "      <td>3</td>\n",
       "      <td>3</td>\n",
       "      <td>30</td>\n",
       "      <td>0.697411</td>\n",
       "      <td>0.197680</td>\n",
       "      <td>25</td>\n",
       "      <td>0.497519</td>\n",
       "      <td>1.620965</td>\n",
       "    </tr>\n",
       "  </tbody>\n",
       "</table>\n",
       "</div>"
      ]
     },
     "execution_count": 35,
     "metadata": {},
     "output_type": "execute_result"
    }
   ],
   "execution_count": 35
  },
  {
   "metadata": {},
   "cell_type": "markdown",
   "source": "# Example request from new views",
   "id": "dca5725815dafb19"
  },
  {
   "cell_type": "code",
   "id": "eda9cfc1",
   "metadata": {
    "ExecuteTime": {
     "end_time": "2025-02-22T16:01:23.534966Z",
     "start_time": "2025-02-22T16:01:23.374908Z"
    }
   },
   "source": [
    "sample_df = store.get_historical_features(\n",
    "    entity_df=entity_df,\n",
    "    features=[\n",
    "        \"driver_trips_with_timestamp:event_timestamp\",\n",
    "        \"driver_trips_with_timestamp:avg_daily_trips\",\n",
    "        \"driver_conv_rate_with_timestamp:conv_rate\",\n",
    "        \"minus_conv_rate:conv_rate_minus_val1\",\n",
    "        \"minus_conv_rate:conv_rate_minus_val2\",\n",
    "    ],\n",
    ").to_df()"
   ],
   "outputs": [
    {
     "name": "stderr",
     "output_type": "stream",
     "text": [
      "WARNING:root:_list_feature_views will make breaking changes. Please use _list_batch_feature_views instead. _list_feature_views will behave like _list_all_feature_views in the future.\n"
     ]
    }
   ],
   "execution_count": 40
  },
  {
   "metadata": {
    "ExecuteTime": {
     "end_time": "2025-02-22T16:01:33.258786Z",
     "start_time": "2025-02-22T16:01:33.246437Z"
    }
   },
   "cell_type": "code",
   "source": "sample_df",
   "id": "35296eb7447cef1a",
   "outputs": [
    {
     "data": {
      "text/plain": [
       "   driver_id           event_timestamp  label_driver_reported_satisfaction  \\\n",
       "0       1001 2021-04-12 10:59:42+00:00                                   1   \n",
       "1       1002 2021-04-12 08:12:10+00:00                                   5   \n",
       "2       1003 2021-04-12 16:40:26+00:00                                   3   \n",
       "\n",
       "   val_to_add  val_to_add_2  avg_daily_trips  conv_rate  conv_rate_minus_val1  \\\n",
       "0           1            10              402   0.709758             -0.290242   \n",
       "1           2            20              370   0.718295             -1.281705   \n",
       "2           3            30               25   0.697411             -2.302589   \n",
       "\n",
       "   conv_rate_minus_val2  \n",
       "0             -9.290242  \n",
       "1            -19.281705  \n",
       "2            -29.302589  "
      ],
      "text/html": [
       "<div>\n",
       "<style scoped>\n",
       "    .dataframe tbody tr th:only-of-type {\n",
       "        vertical-align: middle;\n",
       "    }\n",
       "\n",
       "    .dataframe tbody tr th {\n",
       "        vertical-align: top;\n",
       "    }\n",
       "\n",
       "    .dataframe thead th {\n",
       "        text-align: right;\n",
       "    }\n",
       "</style>\n",
       "<table border=\"1\" class=\"dataframe\">\n",
       "  <thead>\n",
       "    <tr style=\"text-align: right;\">\n",
       "      <th></th>\n",
       "      <th>driver_id</th>\n",
       "      <th>event_timestamp</th>\n",
       "      <th>label_driver_reported_satisfaction</th>\n",
       "      <th>val_to_add</th>\n",
       "      <th>val_to_add_2</th>\n",
       "      <th>avg_daily_trips</th>\n",
       "      <th>conv_rate</th>\n",
       "      <th>conv_rate_minus_val1</th>\n",
       "      <th>conv_rate_minus_val2</th>\n",
       "    </tr>\n",
       "  </thead>\n",
       "  <tbody>\n",
       "    <tr>\n",
       "      <th>0</th>\n",
       "      <td>1001</td>\n",
       "      <td>2021-04-12 10:59:42+00:00</td>\n",
       "      <td>1</td>\n",
       "      <td>1</td>\n",
       "      <td>10</td>\n",
       "      <td>402</td>\n",
       "      <td>0.709758</td>\n",
       "      <td>-0.290242</td>\n",
       "      <td>-9.290242</td>\n",
       "    </tr>\n",
       "    <tr>\n",
       "      <th>1</th>\n",
       "      <td>1002</td>\n",
       "      <td>2021-04-12 08:12:10+00:00</td>\n",
       "      <td>5</td>\n",
       "      <td>2</td>\n",
       "      <td>20</td>\n",
       "      <td>370</td>\n",
       "      <td>0.718295</td>\n",
       "      <td>-1.281705</td>\n",
       "      <td>-19.281705</td>\n",
       "    </tr>\n",
       "    <tr>\n",
       "      <th>2</th>\n",
       "      <td>1003</td>\n",
       "      <td>2021-04-12 16:40:26+00:00</td>\n",
       "      <td>3</td>\n",
       "      <td>3</td>\n",
       "      <td>30</td>\n",
       "      <td>25</td>\n",
       "      <td>0.697411</td>\n",
       "      <td>-2.302589</td>\n",
       "      <td>-29.302589</td>\n",
       "    </tr>\n",
       "  </tbody>\n",
       "</table>\n",
       "</div>"
      ]
     },
     "execution_count": 41,
     "metadata": {},
     "output_type": "execute_result"
    }
   ],
   "execution_count": 41
  }
 ],
 "metadata": {
  "kernelspec": {
   "display_name": ".venv (3.11.11)",
   "language": "python",
   "name": "python3"
  },
  "language_info": {
   "codemirror_mode": {
    "name": "ipython",
    "version": 3
   },
   "file_extension": ".py",
   "mimetype": "text/x-python",
   "name": "python",
   "nbconvert_exporter": "python",
   "pygments_lexer": "ipython3",
   "version": "3.11.11"
  }
 },
 "nbformat": 4,
 "nbformat_minor": 5
}
